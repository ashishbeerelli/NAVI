{
 "cells": [
  {
   "cell_type": "markdown",
   "metadata": {},
   "source": [
    "# Importing the libraries.\n",
    "1.numpy and pandas for manupilation<br>\n",
    "2.matplotlib and for visualization<br>"
   ]
  },
  {
   "cell_type": "code",
   "execution_count": 102,
   "metadata": {},
   "outputs": [],
   "source": [
    "import numpy as np\n",
    "import pandas as pd\n",
    "\n",
    "import matplotlib.pyplot as plt\n",
    "import seaborn as sns\n"
   ]
  },
  {
   "cell_type": "markdown",
   "metadata": {},
   "source": [
    "# Lets read the Dataset"
   ]
  },
  {
   "cell_type": "code",
   "execution_count": 12,
   "metadata": {},
   "outputs": [],
   "source": [
    "data = pd.read_excel('Navi.xlsx')"
   ]
  },
  {
   "cell_type": "code",
   "execution_count": 18,
   "metadata": {},
   "outputs": [
    {
     "name": "stdout",
     "output_type": "stream",
     "text": [
      "shap of the dataset : (32293, 76)\n"
     ]
    }
   ],
   "source": [
    "print(\"shap of the dataset :\", data.shape)"
   ]
  },
  {
   "cell_type": "markdown",
   "metadata": {},
   "source": [
    "# We have total 32293 installations"
   ]
  },
  {
   "cell_type": "code",
   "execution_count": 16,
   "metadata": {},
   "outputs": [
    {
     "data": {
      "text/html": [
       "<div>\n",
       "<style scoped>\n",
       "    .dataframe tbody tr th:only-of-type {\n",
       "        vertical-align: middle;\n",
       "    }\n",
       "\n",
       "    .dataframe tbody tr th {\n",
       "        vertical-align: top;\n",
       "    }\n",
       "\n",
       "    .dataframe thead th {\n",
       "        text-align: right;\n",
       "    }\n",
       "</style>\n",
       "<table border=\"1\" class=\"dataframe\">\n",
       "  <thead>\n",
       "    <tr style=\"text-align: right;\">\n",
       "      <th></th>\n",
       "      <th>Attributed Touch Type</th>\n",
       "      <th>Attributed Touch Time</th>\n",
       "      <th>Install Time</th>\n",
       "      <th>Event Time</th>\n",
       "      <th>Event Name</th>\n",
       "      <th>Event Value</th>\n",
       "      <th>Event Revenue</th>\n",
       "      <th>Event Revenue Currency</th>\n",
       "      <th>Event Revenue USD</th>\n",
       "      <th>Cost Model</th>\n",
       "      <th>...</th>\n",
       "      <th>Attributed Touch Hour</th>\n",
       "      <th>Install Hour</th>\n",
       "      <th>Event Hour</th>\n",
       "      <th>Rejected Reason</th>\n",
       "      <th>Unique Click ID</th>\n",
       "      <th>Postback Url</th>\n",
       "      <th>Postback Method</th>\n",
       "      <th>Postback Http Response Code</th>\n",
       "      <th>Postback Error Message</th>\n",
       "      <th>Postback Retry</th>\n",
       "    </tr>\n",
       "  </thead>\n",
       "  <tbody>\n",
       "    <tr>\n",
       "      <td>0</td>\n",
       "      <td>click</td>\n",
       "      <td>16/06/21 23:35</td>\n",
       "      <td>22/06/21 13:20</td>\n",
       "      <td>22/06/21 13:20</td>\n",
       "      <td>install</td>\n",
       "      <td>NaN</td>\n",
       "      <td>NaN</td>\n",
       "      <td>NaN</td>\n",
       "      <td>NaN</td>\n",
       "      <td>NaN</td>\n",
       "      <td>...</td>\n",
       "      <td>NaN</td>\n",
       "      <td>NaN</td>\n",
       "      <td>NaN</td>\n",
       "      <td>NaN</td>\n",
       "      <td>ca07c28ahe8e4xe1cfbb5478xf0046l6a8dd31a</td>\n",
       "      <td>http://www.hdm3.in/ti.php?hid=ca07c28ahe8e4xe1...</td>\n",
       "      <td>get</td>\n",
       "      <td>200.0</td>\n",
       "      <td>NaN</td>\n",
       "      <td>NaN</td>\n",
       "    </tr>\n",
       "    <tr>\n",
       "      <td>1</td>\n",
       "      <td>click</td>\n",
       "      <td>20/06/21 4:40</td>\n",
       "      <td>22/06/21 13:04</td>\n",
       "      <td>22/06/21 13:04</td>\n",
       "      <td>install</td>\n",
       "      <td>NaN</td>\n",
       "      <td>NaN</td>\n",
       "      <td>NaN</td>\n",
       "      <td>NaN</td>\n",
       "      <td>NaN</td>\n",
       "      <td>...</td>\n",
       "      <td>NaN</td>\n",
       "      <td>NaN</td>\n",
       "      <td>NaN</td>\n",
       "      <td>NaN</td>\n",
       "      <td>c8588ba5se860xe1cfbbf2aexf0046m4d502343</td>\n",
       "      <td>http://www.hdm3.in/ti.php?hid=c8588ba5se860xe1...</td>\n",
       "      <td>get</td>\n",
       "      <td>503.0</td>\n",
       "      <td>NaN</td>\n",
       "      <td>NaN</td>\n",
       "    </tr>\n",
       "    <tr>\n",
       "      <td>2</td>\n",
       "      <td>click</td>\n",
       "      <td>21/06/21 3:13</td>\n",
       "      <td>22/06/21 13:00</td>\n",
       "      <td>22/06/21 13:00</td>\n",
       "      <td>install</td>\n",
       "      <td>NaN</td>\n",
       "      <td>NaN</td>\n",
       "      <td>NaN</td>\n",
       "      <td>NaN</td>\n",
       "      <td>NaN</td>\n",
       "      <td>...</td>\n",
       "      <td>NaN</td>\n",
       "      <td>NaN</td>\n",
       "      <td>NaN</td>\n",
       "      <td>NaN</td>\n",
       "      <td>1fdc2c90je860me1cfb7c909of0046me2248c8b</td>\n",
       "      <td>http://www.hdm3.in/ti.php?hid=1fdc2c90je860me1...</td>\n",
       "      <td>get</td>\n",
       "      <td>200.0</td>\n",
       "      <td>NaN</td>\n",
       "      <td>NaN</td>\n",
       "    </tr>\n",
       "    <tr>\n",
       "      <td>3</td>\n",
       "      <td>click</td>\n",
       "      <td>21/06/21 1:36</td>\n",
       "      <td>22/06/21 12:53</td>\n",
       "      <td>22/06/21 12:53</td>\n",
       "      <td>install</td>\n",
       "      <td>NaN</td>\n",
       "      <td>NaN</td>\n",
       "      <td>NaN</td>\n",
       "      <td>NaN</td>\n",
       "      <td>NaN</td>\n",
       "      <td>...</td>\n",
       "      <td>NaN</td>\n",
       "      <td>NaN</td>\n",
       "      <td>NaN</td>\n",
       "      <td>NaN</td>\n",
       "      <td>fb9c3703we482te1cfb7c88enf02c4vf241bf8d</td>\n",
       "      <td>http://www.hdm3.in/ti.php?hid=fb9c3703we482te1...</td>\n",
       "      <td>get</td>\n",
       "      <td>503.0</td>\n",
       "      <td>NaN</td>\n",
       "      <td>NaN</td>\n",
       "    </tr>\n",
       "    <tr>\n",
       "      <td>4</td>\n",
       "      <td>click</td>\n",
       "      <td>21/06/21 4:07</td>\n",
       "      <td>22/06/21 12:45</td>\n",
       "      <td>22/06/21 12:45</td>\n",
       "      <td>install</td>\n",
       "      <td>NaN</td>\n",
       "      <td>NaN</td>\n",
       "      <td>NaN</td>\n",
       "      <td>NaN</td>\n",
       "      <td>NaN</td>\n",
       "      <td>...</td>\n",
       "      <td>NaN</td>\n",
       "      <td>NaN</td>\n",
       "      <td>NaN</td>\n",
       "      <td>NaN</td>\n",
       "      <td>ba63e6e9se860se1cfb7c9b8kf0046n00e996e9</td>\n",
       "      <td>http://www.hdm3.in/ti.php?hid=ba63e6e9se860se1...</td>\n",
       "      <td>get</td>\n",
       "      <td>200.0</td>\n",
       "      <td>NaN</td>\n",
       "      <td>NaN</td>\n",
       "    </tr>\n",
       "  </tbody>\n",
       "</table>\n",
       "<p>5 rows × 76 columns</p>\n",
       "</div>"
      ],
      "text/plain": [
       "  Attributed Touch Type Attributed Touch Time    Install Time      Event Time  \\\n",
       "0                 click        16/06/21 23:35  22/06/21 13:20  22/06/21 13:20   \n",
       "1                 click         20/06/21 4:40  22/06/21 13:04  22/06/21 13:04   \n",
       "2                 click         21/06/21 3:13  22/06/21 13:00  22/06/21 13:00   \n",
       "3                 click         21/06/21 1:36  22/06/21 12:53  22/06/21 12:53   \n",
       "4                 click         21/06/21 4:07  22/06/21 12:45  22/06/21 12:45   \n",
       "\n",
       "  Event Name  Event Value  Event Revenue  Event Revenue Currency  \\\n",
       "0    install          NaN            NaN                     NaN   \n",
       "1    install          NaN            NaN                     NaN   \n",
       "2    install          NaN            NaN                     NaN   \n",
       "3    install          NaN            NaN                     NaN   \n",
       "4    install          NaN            NaN                     NaN   \n",
       "\n",
       "   Event Revenue USD  Cost Model  ...  Attributed Touch Hour  Install Hour  \\\n",
       "0                NaN         NaN  ...                    NaN           NaN   \n",
       "1                NaN         NaN  ...                    NaN           NaN   \n",
       "2                NaN         NaN  ...                    NaN           NaN   \n",
       "3                NaN         NaN  ...                    NaN           NaN   \n",
       "4                NaN         NaN  ...                    NaN           NaN   \n",
       "\n",
       "  Event Hour Rejected Reason                          Unique Click ID  \\\n",
       "0        NaN             NaN  ca07c28ahe8e4xe1cfbb5478xf0046l6a8dd31a   \n",
       "1        NaN             NaN  c8588ba5se860xe1cfbbf2aexf0046m4d502343   \n",
       "2        NaN             NaN  1fdc2c90je860me1cfb7c909of0046me2248c8b   \n",
       "3        NaN             NaN  fb9c3703we482te1cfb7c88enf02c4vf241bf8d   \n",
       "4        NaN             NaN  ba63e6e9se860se1cfb7c9b8kf0046n00e996e9   \n",
       "\n",
       "                                        Postback Url Postback Method  \\\n",
       "0  http://www.hdm3.in/ti.php?hid=ca07c28ahe8e4xe1...             get   \n",
       "1  http://www.hdm3.in/ti.php?hid=c8588ba5se860xe1...             get   \n",
       "2  http://www.hdm3.in/ti.php?hid=1fdc2c90je860me1...             get   \n",
       "3  http://www.hdm3.in/ti.php?hid=fb9c3703we482te1...             get   \n",
       "4  http://www.hdm3.in/ti.php?hid=ba63e6e9se860se1...             get   \n",
       "\n",
       "  Postback Http Response Code Postback Error Message  Postback Retry  \n",
       "0                       200.0                    NaN             NaN  \n",
       "1                       503.0                    NaN             NaN  \n",
       "2                       200.0                    NaN             NaN  \n",
       "3                       503.0                    NaN             NaN  \n",
       "4                       200.0                    NaN             NaN  \n",
       "\n",
       "[5 rows x 76 columns]"
      ]
     },
     "execution_count": 16,
     "metadata": {},
     "output_type": "execute_result"
    }
   ],
   "source": [
    "data.head()"
   ]
  },
  {
   "cell_type": "markdown",
   "metadata": {},
   "source": [
    "# Checking the null spaces"
   ]
  },
  {
   "cell_type": "code",
   "execution_count": 17,
   "metadata": {},
   "outputs": [
    {
     "data": {
      "text/plain": [
       "Attributed Touch Type              0\n",
       "Attributed Touch Time              0\n",
       "Install Time                       0\n",
       "Event Time                         0\n",
       "Event Name                         0\n",
       "                               ...  \n",
       "Postback Url                       0\n",
       "Postback Method                    0\n",
       "Postback Http Response Code     3930\n",
       "Postback Error Message         28363\n",
       "Postback Retry                 32293\n",
       "Length: 76, dtype: int64"
      ]
     },
     "execution_count": 17,
     "metadata": {},
     "output_type": "execute_result"
    }
   ],
   "source": [
    "data.isnull().sum()"
   ]
  },
  {
   "cell_type": "code",
   "execution_count": 22,
   "metadata": {},
   "outputs": [
    {
     "data": {
      "text/html": [
       "<div>\n",
       "<style scoped>\n",
       "    .dataframe tbody tr th:only-of-type {\n",
       "        vertical-align: middle;\n",
       "    }\n",
       "\n",
       "    .dataframe tbody tr th {\n",
       "        vertical-align: top;\n",
       "    }\n",
       "\n",
       "    .dataframe thead th {\n",
       "        text-align: right;\n",
       "    }\n",
       "</style>\n",
       "<table border=\"1\" class=\"dataframe\">\n",
       "  <thead>\n",
       "    <tr style=\"text-align: right;\">\n",
       "      <th></th>\n",
       "      <th>Attributed Touch Type</th>\n",
       "      <th>Attributed Touch Time</th>\n",
       "      <th>Install Time</th>\n",
       "      <th>Event Time</th>\n",
       "      <th>Event Name</th>\n",
       "      <th>Event Value</th>\n",
       "      <th>Event Revenue</th>\n",
       "      <th>Event Revenue Currency</th>\n",
       "      <th>Event Revenue USD</th>\n",
       "      <th>Cost Model</th>\n",
       "      <th>...</th>\n",
       "      <th>Attributed Touch Hour</th>\n",
       "      <th>Install Hour</th>\n",
       "      <th>Event Hour</th>\n",
       "      <th>Rejected Reason</th>\n",
       "      <th>Unique Click ID</th>\n",
       "      <th>Postback Url</th>\n",
       "      <th>Postback Method</th>\n",
       "      <th>Postback Http Response Code</th>\n",
       "      <th>Postback Error Message</th>\n",
       "      <th>Postback Retry</th>\n",
       "    </tr>\n",
       "  </thead>\n",
       "  <tbody>\n",
       "    <tr>\n",
       "      <td>0</td>\n",
       "      <td>False</td>\n",
       "      <td>False</td>\n",
       "      <td>False</td>\n",
       "      <td>False</td>\n",
       "      <td>False</td>\n",
       "      <td>True</td>\n",
       "      <td>True</td>\n",
       "      <td>True</td>\n",
       "      <td>True</td>\n",
       "      <td>True</td>\n",
       "      <td>...</td>\n",
       "      <td>True</td>\n",
       "      <td>True</td>\n",
       "      <td>True</td>\n",
       "      <td>True</td>\n",
       "      <td>False</td>\n",
       "      <td>False</td>\n",
       "      <td>False</td>\n",
       "      <td>False</td>\n",
       "      <td>True</td>\n",
       "      <td>True</td>\n",
       "    </tr>\n",
       "    <tr>\n",
       "      <td>1</td>\n",
       "      <td>False</td>\n",
       "      <td>False</td>\n",
       "      <td>False</td>\n",
       "      <td>False</td>\n",
       "      <td>False</td>\n",
       "      <td>True</td>\n",
       "      <td>True</td>\n",
       "      <td>True</td>\n",
       "      <td>True</td>\n",
       "      <td>True</td>\n",
       "      <td>...</td>\n",
       "      <td>True</td>\n",
       "      <td>True</td>\n",
       "      <td>True</td>\n",
       "      <td>True</td>\n",
       "      <td>False</td>\n",
       "      <td>False</td>\n",
       "      <td>False</td>\n",
       "      <td>False</td>\n",
       "      <td>True</td>\n",
       "      <td>True</td>\n",
       "    </tr>\n",
       "    <tr>\n",
       "      <td>2</td>\n",
       "      <td>False</td>\n",
       "      <td>False</td>\n",
       "      <td>False</td>\n",
       "      <td>False</td>\n",
       "      <td>False</td>\n",
       "      <td>True</td>\n",
       "      <td>True</td>\n",
       "      <td>True</td>\n",
       "      <td>True</td>\n",
       "      <td>True</td>\n",
       "      <td>...</td>\n",
       "      <td>True</td>\n",
       "      <td>True</td>\n",
       "      <td>True</td>\n",
       "      <td>True</td>\n",
       "      <td>False</td>\n",
       "      <td>False</td>\n",
       "      <td>False</td>\n",
       "      <td>False</td>\n",
       "      <td>True</td>\n",
       "      <td>True</td>\n",
       "    </tr>\n",
       "    <tr>\n",
       "      <td>3</td>\n",
       "      <td>False</td>\n",
       "      <td>False</td>\n",
       "      <td>False</td>\n",
       "      <td>False</td>\n",
       "      <td>False</td>\n",
       "      <td>True</td>\n",
       "      <td>True</td>\n",
       "      <td>True</td>\n",
       "      <td>True</td>\n",
       "      <td>True</td>\n",
       "      <td>...</td>\n",
       "      <td>True</td>\n",
       "      <td>True</td>\n",
       "      <td>True</td>\n",
       "      <td>True</td>\n",
       "      <td>False</td>\n",
       "      <td>False</td>\n",
       "      <td>False</td>\n",
       "      <td>False</td>\n",
       "      <td>True</td>\n",
       "      <td>True</td>\n",
       "    </tr>\n",
       "    <tr>\n",
       "      <td>4</td>\n",
       "      <td>False</td>\n",
       "      <td>False</td>\n",
       "      <td>False</td>\n",
       "      <td>False</td>\n",
       "      <td>False</td>\n",
       "      <td>True</td>\n",
       "      <td>True</td>\n",
       "      <td>True</td>\n",
       "      <td>True</td>\n",
       "      <td>True</td>\n",
       "      <td>...</td>\n",
       "      <td>True</td>\n",
       "      <td>True</td>\n",
       "      <td>True</td>\n",
       "      <td>True</td>\n",
       "      <td>False</td>\n",
       "      <td>False</td>\n",
       "      <td>False</td>\n",
       "      <td>False</td>\n",
       "      <td>True</td>\n",
       "      <td>True</td>\n",
       "    </tr>\n",
       "  </tbody>\n",
       "</table>\n",
       "<p>5 rows × 76 columns</p>\n",
       "</div>"
      ],
      "text/plain": [
       "   Attributed Touch Type  Attributed Touch Time  Install Time  Event Time  \\\n",
       "0                  False                  False         False       False   \n",
       "1                  False                  False         False       False   \n",
       "2                  False                  False         False       False   \n",
       "3                  False                  False         False       False   \n",
       "4                  False                  False         False       False   \n",
       "\n",
       "   Event Name  Event Value  Event Revenue  Event Revenue Currency  \\\n",
       "0       False         True           True                    True   \n",
       "1       False         True           True                    True   \n",
       "2       False         True           True                    True   \n",
       "3       False         True           True                    True   \n",
       "4       False         True           True                    True   \n",
       "\n",
       "   Event Revenue USD  Cost Model  ...  Attributed Touch Hour  Install Hour  \\\n",
       "0               True        True  ...                   True          True   \n",
       "1               True        True  ...                   True          True   \n",
       "2               True        True  ...                   True          True   \n",
       "3               True        True  ...                   True          True   \n",
       "4               True        True  ...                   True          True   \n",
       "\n",
       "   Event Hour  Rejected Reason  Unique Click ID  Postback Url  \\\n",
       "0        True             True            False         False   \n",
       "1        True             True            False         False   \n",
       "2        True             True            False         False   \n",
       "3        True             True            False         False   \n",
       "4        True             True            False         False   \n",
       "\n",
       "   Postback Method  Postback Http Response Code  Postback Error Message  \\\n",
       "0            False                        False                    True   \n",
       "1            False                        False                    True   \n",
       "2            False                        False                    True   \n",
       "3            False                        False                    True   \n",
       "4            False                        False                    True   \n",
       "\n",
       "   Postback Retry  \n",
       "0            True  \n",
       "1            True  \n",
       "2            True  \n",
       "3            True  \n",
       "4            True  \n",
       "\n",
       "[5 rows x 76 columns]"
      ]
     },
     "execution_count": 22,
     "metadata": {},
     "output_type": "execute_result"
    }
   ],
   "source": [
    "missing_data = data.isnull()\n",
    "missing_data.head(5)"
   ]
  },
  {
   "cell_type": "markdown",
   "metadata": {},
   "source": [
    "\"True\" means the value is a missing value while \"False\" means the value is not a missing value."
   ]
  },
  {
   "cell_type": "markdown",
   "metadata": {},
   "source": [
    "# <h4>Calculate the mean value for the \"Postback Http Response Code\" column </h4>"
   ]
  },
  {
   "cell_type": "code",
   "execution_count": 63,
   "metadata": {},
   "outputs": [
    {
     "name": "stdout",
     "output_type": "stream",
     "text": [
      "Postback Http Response Code: 212.03966435144378\n"
     ]
    }
   ],
   "source": [
    "avg_Postback_Http = data[\"Postback Http Response Code\"].astype('float64').mean(axis=0)\n",
    "print(\"Postback Http Response Code:\", avg_norm_loss)"
   ]
  },
  {
   "cell_type": "markdown",
   "metadata": {},
   "source": [
    "<h4>Replace \"NaN\" with mean value in \"Postback Http Response Code\" column</h4> "
   ]
  },
  {
   "cell_type": "code",
   "execution_count": 77,
   "metadata": {},
   "outputs": [],
   "source": [
    "data[\"Postback Http Response Code\"].replace(np.nan, avg_Postback_Http, inplace=True)"
   ]
  },
  {
   "cell_type": "markdown",
   "metadata": {},
   "source": [
    "#  Clicks on a particular time"
   ]
  },
  {
   "cell_type": "code",
   "execution_count": 78,
   "metadata": {},
   "outputs": [
    {
     "data": {
      "text/plain": [
       "28/05/21 11:49         49\n",
       "31/05/21 15:00         46\n",
       "27/05/21 20:03         44\n",
       "27/05/21 19:45         44\n",
       "27/05/21 18:49         44\n",
       "                       ..\n",
       "20/05/21 19:57          1\n",
       "2021-08-06 02:52:00     1\n",
       "2021-09-06 08:04:00     1\n",
       "19/06/21 9:18           1\n",
       "2021-06-06 08:34:00     1\n",
       "Name: Attributed Touch Time, Length: 14959, dtype: int64"
      ]
     },
     "execution_count": 78,
     "metadata": {},
     "output_type": "execute_result"
    }
   ],
   "source": [
    "data['Attributed Touch Time'].value_counts()"
   ]
  },
  {
   "cell_type": "code",
   "execution_count": 115,
   "metadata": {},
   "outputs": [
    {
     "data": {
      "text/plain": [
       "Micromax-Micromax C1          750\n",
       "xiaomi-Redmi Note 4           310\n",
       "Micromax-Micromax Bharat 5    271\n",
       "mobiistar-mobiistar C1        265\n",
       "Tambo-TA-2                    265\n",
       "                             ... \n",
       "IKALL-SM-E621I                  1\n",
       "Oxiron-SM-A358P                 1\n",
       "Swipe-SM-C883U                  1\n",
       "Swipe-SM-D283T                  1\n",
       "i_smart-SM-M535R                1\n",
       "Name: Device Type, Length: 16501, dtype: int64"
      ]
     },
     "execution_count": 115,
     "metadata": {},
     "output_type": "execute_result"
    }
   ],
   "source": [
    "data['Device Type'].value_counts()"
   ]
  },
  {
   "cell_type": "code",
   "execution_count": 108,
   "metadata": {},
   "outputs": [
    {
     "data": {
      "text/plain": [
       "Text(0.5, 1.0, 'Number of clicks on particular time')"
      ]
     },
     "execution_count": 108,
     "metadata": {},
     "output_type": "execute_result"
    },
    {
     "data": {
      "image/png": "[encoded data removed]",
      "text/plain": [
       "<Figure size 432x288 with 1 Axes>"
      ]
     },
     "metadata": {
      "needs_background": "light"
     },
     "output_type": "display_data"
    }
   ],
   "source": [
    "data['Attributed Touch Time'].value_counts()[:20].plot(kind='barh')\n",
    "plt.title(\"Number of clicks on particular time\")\n"
   ]
  },
  {
   "cell_type": "markdown",
   "metadata": {},
   "source": [
    "# How many installs on particular time"
   ]
  },
  {
   "cell_type": "code",
   "execution_count": 111,
   "metadata": {},
   "outputs": [
    {
     "data": {
      "text/plain": [
       "Text(0.5, 1.0, 'Number of installs on particular time')"
      ]
     },
     "execution_count": 111,
     "metadata": {},
     "output_type": "execute_result"
    },
    {
     "data": {
      "image/png": "[encoded data removed]",
      "text/plain": [
       "<Figure size 432x288 with 1 Axes>"
      ]
     },
     "metadata": {
      "needs_background": "light"
     },
     "output_type": "display_data"
    }
   ],
   "source": [
    "data['Install Time'].value_counts()[:20].plot(kind='barh')\n",
    "plt.title(\"Number of installs on particular time\")"
   ]
  },
  {
   "cell_type": "markdown",
   "metadata": {},
   "source": [
    "# We have maximum installations on 27th of May 2021"
   ]
  },
  {
   "cell_type": "code",
   "execution_count": 101,
   "metadata": {},
   "outputs": [
    {
     "data": {
      "text/plain": [
       "<matplotlib.axes._subplots.AxesSubplot at 0x1782b196448>"
      ]
     },
     "execution_count": 101,
     "metadata": {},
     "output_type": "execute_result"
    },
    {
     "data": {
      "image/png": "[encoded data removed]",
      "text/plain": [
       "<Figure size 432x288 with 1 Axes>"
      ]
     },
     "metadata": {
      "needs_background": "light"
     },
     "output_type": "display_data"
    }
   ],
   "source": [
    "data['State'].value_counts()[0:20].plot(kind='barh')"
   ]
  },
  {
   "cell_type": "markdown",
   "metadata": {},
   "source": [
    "# We have maximum installations from MH(Maharastra)"
   ]
  },
  {
   "cell_type": "code",
   "execution_count": 110,
   "metadata": {},
   "outputs": [
    {
     "data": {
      "text/plain": [
       "<matplotlib.axes._subplots.AxesSubplot at 0x1782b801c48>"
      ]
     },
     "execution_count": 110,
     "metadata": {},
     "output_type": "execute_result"
    },
    {
     "data": {
      "image/png": "[encoded data removed]",
      "text/plain": [
       "<Figure size 432x288 with 1 Axes>"
      ]
     },
     "metadata": {
      "needs_background": "light"
     },
     "output_type": "display_data"
    }
   ],
   "source": [
    "data['City'].value_counts()[0:20].plot(kind='barh')"
   ]
  },
  {
   "cell_type": "markdown",
   "metadata": {},
   "source": [
    "# 1.From cities we have most from Delhi \n",
    "# 2.From Maharastra we have most from Mumbai"
   ]
  },
  {
   "cell_type": "code",
   "execution_count": 113,
   "metadata": {},
   "outputs": [
    {
     "data": {
      "text/plain": [
       "<matplotlib.axes._subplots.AxesSubplot at 0x1782b96abc8>"
      ]
     },
     "execution_count": 113,
     "metadata": {},
     "output_type": "execute_result"
    },
    {
     "data": {
      "image/png": "[encoded data removed]",
      "text/plain": [
       "<Figure size 432x288 with 1 Axes>"
      ]
     },
     "metadata": {
      "needs_background": "light"
     },
     "output_type": "display_data"
    }
   ],
   "source": [
    "data['Operator'].value_counts()[0:20].plot(kind='barh')"
   ]
  },
  {
   "cell_type": "markdown",
   "metadata": {},
   "source": [
    "# Most of the installation users uses operator Jio 4G"
   ]
  },
  {
   "cell_type": "code",
   "execution_count": 114,
   "metadata": {},
   "outputs": [
    {
     "data": {
      "text/plain": [
       "<matplotlib.axes._subplots.AxesSubplot at 0x1782ba03748>"
      ]
     },
     "execution_count": 114,
     "metadata": {},
     "output_type": "execute_result"
    },
    {
     "data": {
      "image/png": "[encoded data removed]",
      "text/plain": [
       "<Figure size 432x288 with 1 Axes>"
      ]
     },
     "metadata": {
      "needs_background": "light"
     },
     "output_type": "display_data"
    }
   ],
   "source": [
    "data['Device Type'].value_counts()[0:20].plot(kind='barh')"
   ]
  },
  {
   "cell_type": "markdown",
   "metadata": {},
   "source": [
    "# Micromax C1 phone is at top with 750, Bouble and Truple than most of the phones"
   ]
  },
  {
   "cell_type": "code",
   "execution_count": 120,
   "metadata": {},
   "outputs": [
    {
     "data": {
      "text/plain": [
       "<matplotlib.axes._subplots.AxesSubplot at 0x1782bfe9fc8>"
      ]
     },
     "execution_count": 120,
     "metadata": {},
     "output_type": "execute_result"
    },
    {
     "data": {
      "image/png": "[encoded data removed]",
      "text/plain": [
       "<Figure size 432x288 with 1 Axes>"
      ]
     },
     "metadata": {
      "needs_background": "light"
     },
     "output_type": "display_data"
    }
   ],
   "source": [
    "\n",
    "data['Platform'].value_counts()[0:20].plot(kind='hist')"
   ]
  },
  {
   "cell_type": "markdown",
   "metadata": {},
   "source": [
    "# All the phones are Android"
   ]
  },
  {
   "cell_type": "code",
   "execution_count": 121,
   "metadata": {},
   "outputs": [
    {
     "data": {
      "text/plain": [
       "<matplotlib.axes._subplots.AxesSubplot at 0x1782bbdad88>"
      ]
     },
     "execution_count": 121,
     "metadata": {},
     "output_type": "execute_result"
    },
    {
     "data": {
      "image/png": "[encoded data removed]",
      "text/plain": [
       "<Figure size 432x288 with 1 Axes>"
      ]
     },
     "metadata": {
      "needs_background": "light"
     },
     "output_type": "display_data"
    }
   ],
   "source": [
    "data['App Version'].value_counts()[0:20].plot(kind='barh')"
   ]
  },
  {
   "cell_type": "markdown",
   "metadata": {},
   "source": [
    "# Most of the app versions are 1.3.7, 1.5.9, 1.6.0"
   ]
  },
  {
   "cell_type": "code",
   "execution_count": null,
   "metadata": {},
   "outputs": [],
   "source": []
  },
  {
   "cell_type": "code",
   "execution_count": null,
   "metadata": {},
   "outputs": [],
   "source": []
  }
 ],
 "metadata": {
  "kernelspec": {
   "display_name": "Python 3",
   "language": "python",
   "name": "python3"
  },
  "language_info": {
   "codemirror_mode": {
    "name": "ipython",
    "version": 3
   },
   "file_extension": ".py",
   "mimetype": "text/x-python",
   "name": "python",
   "nbconvert_exporter": "python",
   "pygments_lexer": "ipython3",
   "version": "3.7.4"
  }
 },
 "nbformat": 4,
 "nbformat_minor": 2
}
