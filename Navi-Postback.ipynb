{
 "cells": [
  {
   "cell_type": "markdown",
   "metadata": {},
   "source": [
    "# Importing the libraries.\n",
    "1.numpy and pandas for manupilation<br>\n",
    "2.matplotlib and for visualization<br>"
   ]
  },
  {
   "cell_type": "code",
   "execution_count": 2,
   "metadata": {},
   "outputs": [],
   "source": [
    "import numpy as np\n",
    "import pandas as pd\n",
    "\n",
    "import matplotlib.pyplot as plt\n",
    "import seaborn as sns\n"
   ]
  },
  {
   "cell_type": "markdown",
   "metadata": {},
   "source": [
    "#  Lets read the Dataset"
   ]
  },
  {
   "cell_type": "code",
   "execution_count": 4,
   "metadata": {},
   "outputs": [],
   "source": [
    "data = pd.read_excel('Navi - Postback.xlsx')"
   ]
  },
  {
   "cell_type": "code",
   "execution_count": 5,
   "metadata": {},
   "outputs": [
    {
     "name": "stdout",
     "output_type": "stream",
     "text": [
      "shap of the dataset : (46, 73)\n"
     ]
    }
   ],
   "source": [
    "print(\"shap of the dataset :\", data.shape)"
   ]
  },
  {
   "cell_type": "markdown",
   "metadata": {},
   "source": [
    "# We have total 46 Postbacks"
   ]
  },
  {
   "cell_type": "code",
   "execution_count": 6,
   "metadata": {},
   "outputs": [
    {
     "data": {
      "text/html": [
       "<div>\n",
       "<style scoped>\n",
       "    .dataframe tbody tr th:only-of-type {\n",
       "        vertical-align: middle;\n",
       "    }\n",
       "\n",
       "    .dataframe tbody tr th {\n",
       "        vertical-align: top;\n",
       "    }\n",
       "\n",
       "    .dataframe thead th {\n",
       "        text-align: right;\n",
       "    }\n",
       "</style>\n",
       "<table border=\"1\" class=\"dataframe\">\n",
       "  <thead>\n",
       "    <tr style=\"text-align: right;\">\n",
       "      <th></th>\n",
       "      <th>ï»¿Attributed Touch Type</th>\n",
       "      <th>Attributed Touch Time</th>\n",
       "      <th>Install Time</th>\n",
       "      <th>Event Time</th>\n",
       "      <th>Event Name</th>\n",
       "      <th>Event Value</th>\n",
       "      <th>Event Revenue</th>\n",
       "      <th>Event Revenue Currency</th>\n",
       "      <th>Event Revenue USD</th>\n",
       "      <th>Cost Model</th>\n",
       "      <th>...</th>\n",
       "      <th>Attributed Touch Hour</th>\n",
       "      <th>Install Hour</th>\n",
       "      <th>Event Hour</th>\n",
       "      <th>Rejected Reason</th>\n",
       "      <th>Unique Click ID</th>\n",
       "      <th>Postback Url</th>\n",
       "      <th>Postback Method</th>\n",
       "      <th>Postback Http Response Code</th>\n",
       "      <th>Postback Error Message</th>\n",
       "      <th>Postback Retry</th>\n",
       "    </tr>\n",
       "  </thead>\n",
       "  <tbody>\n",
       "    <tr>\n",
       "      <td>0</td>\n",
       "      <td>click</td>\n",
       "      <td>21/06/21 4:46</td>\n",
       "      <td>22/06/21 12:33</td>\n",
       "      <td>22/06/21 12:36</td>\n",
       "      <td>loan_approved_screen</td>\n",
       "      <td>NaN</td>\n",
       "      <td>NaN</td>\n",
       "      <td>NaN</td>\n",
       "      <td>NaN</td>\n",
       "      <td>NaN</td>\n",
       "      <td>...</td>\n",
       "      <td>NaN</td>\n",
       "      <td>NaN</td>\n",
       "      <td>NaN</td>\n",
       "      <td>NaN</td>\n",
       "      <td>20f797b1ne482se1cfb7c947hf02c4h24972c17</td>\n",
       "      <td>http://hdm3.in/et.php?hid=20f797b1ne482se1cfb7...</td>\n",
       "      <td>get</td>\n",
       "      <td>503.0</td>\n",
       "      <td>NaN</td>\n",
       "      <td>NaN</td>\n",
       "    </tr>\n",
       "    <tr>\n",
       "      <td>1</td>\n",
       "      <td>click</td>\n",
       "      <td>21/06/21 5:25</td>\n",
       "      <td>22/06/21 9:58</td>\n",
       "      <td>22/06/21 10:04</td>\n",
       "      <td>loan_approved_screen</td>\n",
       "      <td>NaN</td>\n",
       "      <td>NaN</td>\n",
       "      <td>NaN</td>\n",
       "      <td>NaN</td>\n",
       "      <td>NaN</td>\n",
       "      <td>...</td>\n",
       "      <td>NaN</td>\n",
       "      <td>NaN</td>\n",
       "      <td>NaN</td>\n",
       "      <td>NaN</td>\n",
       "      <td>bfbfd4b0ve8e4he1cfb7c9f1nf0046ma8e2a161</td>\n",
       "      <td>http://hdm3.in/et.php?hid=bfbfd4b0ve8e4he1cfb7...</td>\n",
       "      <td>get</td>\n",
       "      <td>503.0</td>\n",
       "      <td>NaN</td>\n",
       "      <td>NaN</td>\n",
       "    </tr>\n",
       "    <tr>\n",
       "      <td>2</td>\n",
       "      <td>click</td>\n",
       "      <td>21/06/21 4:06</td>\n",
       "      <td>21/06/21 16:10</td>\n",
       "      <td>21/06/21 16:13</td>\n",
       "      <td>loan_approved_screen</td>\n",
       "      <td>NaN</td>\n",
       "      <td>NaN</td>\n",
       "      <td>NaN</td>\n",
       "      <td>NaN</td>\n",
       "      <td>NaN</td>\n",
       "      <td>...</td>\n",
       "      <td>NaN</td>\n",
       "      <td>NaN</td>\n",
       "      <td>NaN</td>\n",
       "      <td>NaN</td>\n",
       "      <td>bd0debacne860re1cfb7c9b7jf0046o68041085</td>\n",
       "      <td>http://hdm3.in/et.php?hid=bd0debacne860re1cfb7...</td>\n",
       "      <td>get</td>\n",
       "      <td>200.0</td>\n",
       "      <td>NaN</td>\n",
       "      <td>NaN</td>\n",
       "    </tr>\n",
       "    <tr>\n",
       "      <td>3</td>\n",
       "      <td>click</td>\n",
       "      <td>21/06/21 1:21</td>\n",
       "      <td>21/06/21 10:51</td>\n",
       "      <td>21/06/21 11:01</td>\n",
       "      <td>loan_approved_screen</td>\n",
       "      <td>NaN</td>\n",
       "      <td>NaN</td>\n",
       "      <td>NaN</td>\n",
       "      <td>NaN</td>\n",
       "      <td>NaN</td>\n",
       "      <td>...</td>\n",
       "      <td>NaN</td>\n",
       "      <td>NaN</td>\n",
       "      <td>NaN</td>\n",
       "      <td>NaN</td>\n",
       "      <td>01478e69ke860le1cfb7c83aqf0046rc41a55a4</td>\n",
       "      <td>http://hdm3.in/et.php?hid=01478e69ke860le1cfb7...</td>\n",
       "      <td>get</td>\n",
       "      <td>200.0</td>\n",
       "      <td>NaN</td>\n",
       "      <td>NaN</td>\n",
       "    </tr>\n",
       "    <tr>\n",
       "      <td>4</td>\n",
       "      <td>click</td>\n",
       "      <td>18/06/21 3:49</td>\n",
       "      <td>19/06/21 5:44</td>\n",
       "      <td>19/06/21 5:47</td>\n",
       "      <td>loan_approved_screen</td>\n",
       "      <td>NaN</td>\n",
       "      <td>NaN</td>\n",
       "      <td>NaN</td>\n",
       "      <td>NaN</td>\n",
       "      <td>NaN</td>\n",
       "      <td>...</td>\n",
       "      <td>NaN</td>\n",
       "      <td>NaN</td>\n",
       "      <td>NaN</td>\n",
       "      <td>NaN</td>\n",
       "      <td>dd56dc37ye489qe1cfbb832buf02c4q8b0d245a</td>\n",
       "      <td>http://hdm3.in/et.php?hid=dd56dc37ye489qe1cfbb...</td>\n",
       "      <td>get</td>\n",
       "      <td>503.0</td>\n",
       "      <td>NaN</td>\n",
       "      <td>NaN</td>\n",
       "    </tr>\n",
       "  </tbody>\n",
       "</table>\n",
       "<p>5 rows × 73 columns</p>\n",
       "</div>"
      ],
      "text/plain": [
       "  ï»¿Attributed Touch Type Attributed Touch Time    Install Time  \\\n",
       "0                    click         21/06/21 4:46  22/06/21 12:33   \n",
       "1                    click         21/06/21 5:25   22/06/21 9:58   \n",
       "2                    click         21/06/21 4:06  21/06/21 16:10   \n",
       "3                    click         21/06/21 1:21  21/06/21 10:51   \n",
       "4                    click         18/06/21 3:49   19/06/21 5:44   \n",
       "\n",
       "       Event Time            Event Name  Event Value  Event Revenue  \\\n",
       "0  22/06/21 12:36  loan_approved_screen          NaN            NaN   \n",
       "1  22/06/21 10:04  loan_approved_screen          NaN            NaN   \n",
       "2  21/06/21 16:13  loan_approved_screen          NaN            NaN   \n",
       "3  21/06/21 11:01  loan_approved_screen          NaN            NaN   \n",
       "4   19/06/21 5:47  loan_approved_screen          NaN            NaN   \n",
       "\n",
       "   Event Revenue Currency  Event Revenue USD  Cost Model  ...  \\\n",
       "0                     NaN                NaN         NaN  ...   \n",
       "1                     NaN                NaN         NaN  ...   \n",
       "2                     NaN                NaN         NaN  ...   \n",
       "3                     NaN                NaN         NaN  ...   \n",
       "4                     NaN                NaN         NaN  ...   \n",
       "\n",
       "   Attributed Touch Hour  Install Hour Event Hour Rejected Reason  \\\n",
       "0                    NaN           NaN        NaN             NaN   \n",
       "1                    NaN           NaN        NaN             NaN   \n",
       "2                    NaN           NaN        NaN             NaN   \n",
       "3                    NaN           NaN        NaN             NaN   \n",
       "4                    NaN           NaN        NaN             NaN   \n",
       "\n",
       "                           Unique Click ID  \\\n",
       "0  20f797b1ne482se1cfb7c947hf02c4h24972c17   \n",
       "1  bfbfd4b0ve8e4he1cfb7c9f1nf0046ma8e2a161   \n",
       "2  bd0debacne860re1cfb7c9b7jf0046o68041085   \n",
       "3  01478e69ke860le1cfb7c83aqf0046rc41a55a4   \n",
       "4  dd56dc37ye489qe1cfbb832buf02c4q8b0d245a   \n",
       "\n",
       "                                        Postback Url Postback Method  \\\n",
       "0  http://hdm3.in/et.php?hid=20f797b1ne482se1cfb7...             get   \n",
       "1  http://hdm3.in/et.php?hid=bfbfd4b0ve8e4he1cfb7...             get   \n",
       "2  http://hdm3.in/et.php?hid=bd0debacne860re1cfb7...             get   \n",
       "3  http://hdm3.in/et.php?hid=01478e69ke860le1cfb7...             get   \n",
       "4  http://hdm3.in/et.php?hid=dd56dc37ye489qe1cfbb...             get   \n",
       "\n",
       "  Postback Http Response Code  Postback Error Message  Postback Retry  \n",
       "0                       503.0                     NaN             NaN  \n",
       "1                       503.0                     NaN             NaN  \n",
       "2                       200.0                     NaN             NaN  \n",
       "3                       200.0                     NaN             NaN  \n",
       "4                       503.0                     NaN             NaN  \n",
       "\n",
       "[5 rows x 73 columns]"
      ]
     },
     "execution_count": 6,
     "metadata": {},
     "output_type": "execute_result"
    }
   ],
   "source": [
    "data.head()"
   ]
  },
  {
   "cell_type": "markdown",
   "metadata": {},
   "source": [
    "#  Checking the null spaces"
   ]
  },
  {
   "cell_type": "code",
   "execution_count": 7,
   "metadata": {},
   "outputs": [
    {
     "data": {
      "text/plain": [
       "ï»¿Attributed Touch Type        0\n",
       "Attributed Touch Time           0\n",
       "Install Time                    0\n",
       "Event Time                      0\n",
       "Event Name                      0\n",
       "                               ..\n",
       "Postback Url                    0\n",
       "Postback Method                 0\n",
       "Postback Http Response Code     5\n",
       "Postback Error Message         41\n",
       "Postback Retry                 46\n",
       "Length: 73, dtype: int64"
      ]
     },
     "execution_count": 7,
     "metadata": {},
     "output_type": "execute_result"
    }
   ],
   "source": [
    "data.isnull().sum()"
   ]
  },
  {
   "cell_type": "code",
   "execution_count": 8,
   "metadata": {},
   "outputs": [
    {
     "data": {
      "text/html": [
       "<div>\n",
       "<style scoped>\n",
       "    .dataframe tbody tr th:only-of-type {\n",
       "        vertical-align: middle;\n",
       "    }\n",
       "\n",
       "    .dataframe tbody tr th {\n",
       "        vertical-align: top;\n",
       "    }\n",
       "\n",
       "    .dataframe thead th {\n",
       "        text-align: right;\n",
       "    }\n",
       "</style>\n",
       "<table border=\"1\" class=\"dataframe\">\n",
       "  <thead>\n",
       "    <tr style=\"text-align: right;\">\n",
       "      <th></th>\n",
       "      <th>ï»¿Attributed Touch Type</th>\n",
       "      <th>Attributed Touch Time</th>\n",
       "      <th>Install Time</th>\n",
       "      <th>Event Time</th>\n",
       "      <th>Event Name</th>\n",
       "      <th>Event Value</th>\n",
       "      <th>Event Revenue</th>\n",
       "      <th>Event Revenue Currency</th>\n",
       "      <th>Event Revenue USD</th>\n",
       "      <th>Cost Model</th>\n",
       "      <th>...</th>\n",
       "      <th>Attributed Touch Hour</th>\n",
       "      <th>Install Hour</th>\n",
       "      <th>Event Hour</th>\n",
       "      <th>Rejected Reason</th>\n",
       "      <th>Unique Click ID</th>\n",
       "      <th>Postback Url</th>\n",
       "      <th>Postback Method</th>\n",
       "      <th>Postback Http Response Code</th>\n",
       "      <th>Postback Error Message</th>\n",
       "      <th>Postback Retry</th>\n",
       "    </tr>\n",
       "  </thead>\n",
       "  <tbody>\n",
       "    <tr>\n",
       "      <td>0</td>\n",
       "      <td>False</td>\n",
       "      <td>False</td>\n",
       "      <td>False</td>\n",
       "      <td>False</td>\n",
       "      <td>False</td>\n",
       "      <td>True</td>\n",
       "      <td>True</td>\n",
       "      <td>True</td>\n",
       "      <td>True</td>\n",
       "      <td>True</td>\n",
       "      <td>...</td>\n",
       "      <td>True</td>\n",
       "      <td>True</td>\n",
       "      <td>True</td>\n",
       "      <td>True</td>\n",
       "      <td>False</td>\n",
       "      <td>False</td>\n",
       "      <td>False</td>\n",
       "      <td>False</td>\n",
       "      <td>True</td>\n",
       "      <td>True</td>\n",
       "    </tr>\n",
       "    <tr>\n",
       "      <td>1</td>\n",
       "      <td>False</td>\n",
       "      <td>False</td>\n",
       "      <td>False</td>\n",
       "      <td>False</td>\n",
       "      <td>False</td>\n",
       "      <td>True</td>\n",
       "      <td>True</td>\n",
       "      <td>True</td>\n",
       "      <td>True</td>\n",
       "      <td>True</td>\n",
       "      <td>...</td>\n",
       "      <td>True</td>\n",
       "      <td>True</td>\n",
       "      <td>True</td>\n",
       "      <td>True</td>\n",
       "      <td>False</td>\n",
       "      <td>False</td>\n",
       "      <td>False</td>\n",
       "      <td>False</td>\n",
       "      <td>True</td>\n",
       "      <td>True</td>\n",
       "    </tr>\n",
       "    <tr>\n",
       "      <td>2</td>\n",
       "      <td>False</td>\n",
       "      <td>False</td>\n",
       "      <td>False</td>\n",
       "      <td>False</td>\n",
       "      <td>False</td>\n",
       "      <td>True</td>\n",
       "      <td>True</td>\n",
       "      <td>True</td>\n",
       "      <td>True</td>\n",
       "      <td>True</td>\n",
       "      <td>...</td>\n",
       "      <td>True</td>\n",
       "      <td>True</td>\n",
       "      <td>True</td>\n",
       "      <td>True</td>\n",
       "      <td>False</td>\n",
       "      <td>False</td>\n",
       "      <td>False</td>\n",
       "      <td>False</td>\n",
       "      <td>True</td>\n",
       "      <td>True</td>\n",
       "    </tr>\n",
       "    <tr>\n",
       "      <td>3</td>\n",
       "      <td>False</td>\n",
       "      <td>False</td>\n",
       "      <td>False</td>\n",
       "      <td>False</td>\n",
       "      <td>False</td>\n",
       "      <td>True</td>\n",
       "      <td>True</td>\n",
       "      <td>True</td>\n",
       "      <td>True</td>\n",
       "      <td>True</td>\n",
       "      <td>...</td>\n",
       "      <td>True</td>\n",
       "      <td>True</td>\n",
       "      <td>True</td>\n",
       "      <td>True</td>\n",
       "      <td>False</td>\n",
       "      <td>False</td>\n",
       "      <td>False</td>\n",
       "      <td>False</td>\n",
       "      <td>True</td>\n",
       "      <td>True</td>\n",
       "    </tr>\n",
       "    <tr>\n",
       "      <td>4</td>\n",
       "      <td>False</td>\n",
       "      <td>False</td>\n",
       "      <td>False</td>\n",
       "      <td>False</td>\n",
       "      <td>False</td>\n",
       "      <td>True</td>\n",
       "      <td>True</td>\n",
       "      <td>True</td>\n",
       "      <td>True</td>\n",
       "      <td>True</td>\n",
       "      <td>...</td>\n",
       "      <td>True</td>\n",
       "      <td>True</td>\n",
       "      <td>True</td>\n",
       "      <td>True</td>\n",
       "      <td>False</td>\n",
       "      <td>False</td>\n",
       "      <td>False</td>\n",
       "      <td>False</td>\n",
       "      <td>True</td>\n",
       "      <td>True</td>\n",
       "    </tr>\n",
       "  </tbody>\n",
       "</table>\n",
       "<p>5 rows × 73 columns</p>\n",
       "</div>"
      ],
      "text/plain": [
       "   ï»¿Attributed Touch Type  Attributed Touch Time  Install Time  Event Time  \\\n",
       "0                     False                  False         False       False   \n",
       "1                     False                  False         False       False   \n",
       "2                     False                  False         False       False   \n",
       "3                     False                  False         False       False   \n",
       "4                     False                  False         False       False   \n",
       "\n",
       "   Event Name  Event Value  Event Revenue  Event Revenue Currency  \\\n",
       "0       False         True           True                    True   \n",
       "1       False         True           True                    True   \n",
       "2       False         True           True                    True   \n",
       "3       False         True           True                    True   \n",
       "4       False         True           True                    True   \n",
       "\n",
       "   Event Revenue USD  Cost Model  ...  Attributed Touch Hour  Install Hour  \\\n",
       "0               True        True  ...                   True          True   \n",
       "1               True        True  ...                   True          True   \n",
       "2               True        True  ...                   True          True   \n",
       "3               True        True  ...                   True          True   \n",
       "4               True        True  ...                   True          True   \n",
       "\n",
       "   Event Hour  Rejected Reason  Unique Click ID  Postback Url  \\\n",
       "0        True             True            False         False   \n",
       "1        True             True            False         False   \n",
       "2        True             True            False         False   \n",
       "3        True             True            False         False   \n",
       "4        True             True            False         False   \n",
       "\n",
       "   Postback Method  Postback Http Response Code  Postback Error Message  \\\n",
       "0            False                        False                    True   \n",
       "1            False                        False                    True   \n",
       "2            False                        False                    True   \n",
       "3            False                        False                    True   \n",
       "4            False                        False                    True   \n",
       "\n",
       "   Postback Retry  \n",
       "0            True  \n",
       "1            True  \n",
       "2            True  \n",
       "3            True  \n",
       "4            True  \n",
       "\n",
       "[5 rows x 73 columns]"
      ]
     },
     "execution_count": 8,
     "metadata": {},
     "output_type": "execute_result"
    }
   ],
   "source": [
    "missing_data = data.isnull()\n",
    "missing_data.head(5)"
   ]
  },
  {
   "cell_type": "markdown",
   "metadata": {},
   "source": [
    "\"True\" means the value is a missing value while \"False\" means the value is not a missing value."
   ]
  },
  {
   "cell_type": "code",
   "execution_count": 9,
   "metadata": {},
   "outputs": [
    {
     "data": {
      "text/plain": [
       "<matplotlib.axes._subplots.AxesSubplot at 0x2047e918148>"
      ]
     },
     "execution_count": 9,
     "metadata": {},
     "output_type": "execute_result"
    },
    {
     "data": {
      "image/png": "[encoded data removed]",
      "text/plain": [
       "<Figure size 432x288 with 1 Axes>"
      ]
     },
     "metadata": {
      "needs_background": "light"
     },
     "output_type": "display_data"
    }
   ],
   "source": [
    "data['State'].value_counts()[0:20].plot(kind='barh')"
   ]
  },
  {
   "cell_type": "markdown",
   "metadata": {},
   "source": [
    "## We have maximum Postback from MH(Maharastra) "
   ]
  },
  {
   "cell_type": "code",
   "execution_count": 10,
   "metadata": {},
   "outputs": [
    {
     "data": {
      "text/plain": [
       "<matplotlib.axes._subplots.AxesSubplot at 0x2047fbb3288>"
      ]
     },
     "execution_count": 10,
     "metadata": {},
     "output_type": "execute_result"
    },
    {
     "data": {
      "image/png": "[encoded data removed]",
      "text/plain": [
       "<Figure size 432x288 with 1 Axes>"
      ]
     },
     "metadata": {
      "needs_background": "light"
     },
     "output_type": "display_data"
    }
   ],
   "source": [
    "data['City'].value_counts()[0:20].plot(kind='barh')"
   ]
  },
  {
   "cell_type": "markdown",
   "metadata": {},
   "source": [
    "# 1.From cities we have most from Delhi \n",
    "# 2.From Maharastra we have most from Pune"
   ]
  },
  {
   "cell_type": "code",
   "execution_count": 11,
   "metadata": {},
   "outputs": [
    {
     "data": {
      "text/plain": [
       "<matplotlib.axes._subplots.AxesSubplot at 0x2047fc86848>"
      ]
     },
     "execution_count": 11,
     "metadata": {},
     "output_type": "execute_result"
    },
    {
     "data": {
      "image/png": "[encoded data removed]",
      "text/plain": [
       "<Figure size 432x288 with 1 Axes>"
      ]
     },
     "metadata": {
      "needs_background": "light"
     },
     "output_type": "display_data"
    }
   ],
   "source": [
    "data['Operator'].value_counts()[0:20].plot(kind='barh')"
   ]
  },
  {
   "cell_type": "markdown",
   "metadata": {},
   "source": [
    "# Most of the Postback users uses operator  Airtel and Jio 4G"
   ]
  },
  {
   "cell_type": "code",
   "execution_count": 12,
   "metadata": {},
   "outputs": [
    {
     "data": {
      "text/plain": [
       "<matplotlib.axes._subplots.AxesSubplot at 0x2047fcf2088>"
      ]
     },
     "execution_count": 12,
     "metadata": {},
     "output_type": "execute_result"
    },
    {
     "data": {
      "image/png": "[encoded data removed]",
      "text/plain": [
       "<Figure size 432x288 with 1 Axes>"
      ]
     },
     "metadata": {
      "needs_background": "light"
     },
     "output_type": "display_data"
    }
   ],
   "source": [
    "data['Device Type'].value_counts()[0:20].plot(kind='barh')"
   ]
  },
  {
   "cell_type": "markdown",
   "metadata": {},
   "source": [
    "# Samsung-SM-M307GF phone is at top with 3, Bouble and Truple than most of the phones"
   ]
  },
  {
   "cell_type": "code",
   "execution_count": 13,
   "metadata": {},
   "outputs": [
    {
     "data": {
      "text/plain": [
       "<matplotlib.axes._subplots.AxesSubplot at 0x2047fdc3588>"
      ]
     },
     "execution_count": 13,
     "metadata": {},
     "output_type": "execute_result"
    },
    {
     "data": {
      "image/png": "[encoded data removed]",
      "text/plain": [
       "<Figure size 432x288 with 1 Axes>"
      ]
     },
     "metadata": {
      "needs_background": "light"
     },
     "output_type": "display_data"
    }
   ],
   "source": [
    "\n",
    "data['Platform'].value_counts()[0:20].plot(kind='hist')"
   ]
  },
  {
   "cell_type": "markdown",
   "metadata": {},
   "source": [
    " # All the phones are Android"
   ]
  },
  {
   "cell_type": "code",
   "execution_count": 14,
   "metadata": {},
   "outputs": [
    {
     "data": {
      "text/plain": [
       "<matplotlib.axes._subplots.AxesSubplot at 0x2047fe37a48>"
      ]
     },
     "execution_count": 14,
     "metadata": {},
     "output_type": "execute_result"
    },
    {
     "data": {
      "image/png": "[encoded data removed]",
      "text/plain": [
       "<Figure size 432x288 with 1 Axes>"
      ]
     },
     "metadata": {
      "needs_background": "light"
     },
     "output_type": "display_data"
    }
   ],
   "source": [
    "data['App Version'].value_counts()[0:20].plot(kind='barh')"
   ]
  },
  {
   "cell_type": "markdown",
   "metadata": {},
   "source": [
    "#  Most of the app versions are 1.6.0, 1.6.2, 1.7.1"
   ]
  },
  {
   "cell_type": "code",
   "execution_count": null,
   "metadata": {},
   "outputs": [],
   "source": []
  }
 ],
 "metadata": {
  "kernelspec": {
   "display_name": "Python 3",
   "language": "python",
   "name": "python3"
  },
  "language_info": {
   "codemirror_mode": {
    "name": "ipython",
    "version": 3
   },
   "file_extension": ".py",
   "mimetype": "text/x-python",
   "name": "python",
   "nbconvert_exporter": "python",
   "pygments_lexer": "ipython3",
   "version": "3.7.4"
  }
 },
 "nbformat": 4,
 "nbformat_minor": 2
}
